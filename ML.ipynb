{
 "cells": [
  {
   "cell_type": "code",
   "execution_count": 1,
   "metadata": {},
   "outputs": [],
   "source": [
    "import pandas as pd\n",
    "import numpy as np\n",
    "\n",
    "from sklearn.linear_model import LogisticRegression\n",
    "from sklearn.tree import DecisionTreeClassifier\n",
    "\n",
    "from sklearn.metrics import f1_score\n",
    "\n",
    "from sklearn.pipeline import Pipeline, FeatureUnion\n",
    "from sklearn.compose import ColumnTransformer\n",
    "from sklearn.base import BaseEstimator, TransformerMixin\n",
    "\n",
    "from sklearn.preprocessing import QuantileTransformer, FunctionTransformer\n",
    "from sklearn.impute import SimpleImputer, MissingIndicator\n",
    "\n",
    "from category_encoders import TargetEncoder, CountEncoder\n",
    "\n",
    "from lightgbm.sklearn import LGBMClassifier\n",
    "\n",
    "import warnings\n",
    "\n",
    "warnings.filterwarnings(\"ignore\")\n"
   ]
  },
  {
   "cell_type": "code",
   "execution_count": 2,
   "metadata": {},
   "outputs": [],
   "source": [
    "X = pd.read_csv(\"Data/amf_train_x.csv\", index_col = 'Index')\n",
    "y = pd.read_csv(\"Data/amf_train_y.csv\")"
   ]
  },
  {
   "cell_type": "code",
   "execution_count": 3,
   "metadata": {},
   "outputs": [],
   "source": [
    "y = X.merge(y, on = 'Trader')['type'].replace(['NON HFT', 'MIX', 'HFT'], [0, 1 , 2])\n",
    "y.index = X.index"
   ]
  },
  {
   "cell_type": "code",
   "execution_count": 4,
   "metadata": {
    "scrolled": false
   },
   "outputs": [
    {
     "data": {
      "text/plain": [
       "array([[False, False, False, ...,  True,  True,  True],\n",
       "       [False, False, False, ...,  True,  True,  True],\n",
       "       [False, False, False, ...,  True,  True,  True],\n",
       "       ...,\n",
       "       [False,  True, False, ...,  True,  True,  True],\n",
       "       [False,  True, False, ...,  True,  True,  True],\n",
       "       [False,  True, False, ...,  True,  True,  True]])"
      ]
     },
     "execution_count": 4,
     "metadata": {},
     "output_type": "execute_result"
    }
   ],
   "source": [
    "def na_counter(x):\n",
    "    return x.isna().sum(axis = 1).values.reshape((-1, 1))\n",
    "\n",
    "\n",
    "NACounter = FunctionTransformer(na_counter)\n",
    "imputer = SimpleImputer(strategy = \"constant\", fill_value = -1)\n",
    "na_indicator = MissingIndicator()\n",
    "\n",
    "na_indicator.fit_transform(X)"
   ]
  },
  {
   "cell_type": "code",
   "execution_count": 5,
   "metadata": {},
   "outputs": [
    {
     "data": {
      "text/plain": [
       "array([[0.20165686, 0.49596686, 0.30237628],\n",
       "       [0.22485089, 0.47534791, 0.29980119],\n",
       "       [0.20699831, 0.48482293, 0.30817875],\n",
       "       ...,\n",
       "       [0.22307848, 0.48042993, 0.29649158],\n",
       "       [0.20173985, 0.48156587, 0.31669428],\n",
       "       [0.19324821, 0.49880978, 0.307942  ]])"
      ]
     },
     "execution_count": 5,
     "metadata": {},
     "output_type": "execute_result"
    }
   ],
   "source": [
    "class MultiClassTargetEncoder(BaseEstimator, TransformerMixin):\n",
    "    def __init__(self):\n",
    "        return None\n",
    "    \n",
    "    def fit(self, X, y):\n",
    "        y = pd.get_dummies(y)\n",
    "        self.encoders = [TargetEncoder().fit(X, y[y_i]) for y_i in y.columns]\n",
    "        return self\n",
    "    \n",
    "    def transform(self, X):\n",
    "        return pd.concat([encoder.transform(X) for encoder in self.encoders], axis = 1).values\n",
    "    \n",
    "    \n",
    "        \n",
    "mcte = MultiClassTargetEncoder()\n",
    "\n",
    "mcte.fit_transform(X[['Day']], y)   "
   ]
  },
  {
   "cell_type": "code",
   "execution_count": 6,
   "metadata": {},
   "outputs": [],
   "source": [
    "preprocessing = Pipeline([\n",
    "    (\"cleaning\", FeatureUnion([\n",
    "        (\"na_counter\", NACounter),\n",
    "        (\"impute\", imputer),\n",
    "        (\"missing_indicator\", na_indicator),\n",
    "        (\"category_encoding\", ColumnTransformer([\n",
    "            ('day_target_encoding', MultiClassTargetEncoder(), 'Day'),\n",
    "            ('share_target_encoding', MultiClassTargetEncoder(), 'Share'),\n",
    "            ('day_count_encoding', CountEncoder(handle_unknown = 0, min_group_size = 0, handle_missing = 0), 'Day'),\n",
    "            ('share_count_encoding', CountEncoder(handle_unknown = 0, min_group_size = 0, handle_missing = 0), 'Share')],\n",
    "            remainder = \"drop\"))\n",
    "    ])),\n",
    "    (\"drop_trader_date_share\", ColumnTransformer([\n",
    "        (\"drop_columns\", \"drop\", [1, 2, 3])\n",
    "    ], remainder = \"passthrough\")),\n",
    "    (\"scaling\", QuantileTransformer())\n",
    "])"
   ]
  },
  {
   "cell_type": "code",
   "execution_count": 7,
   "metadata": {
    "scrolled": false
   },
   "outputs": [],
   "source": [
    "_ = preprocessing.fit_transform(X, y)"
   ]
  },
  {
   "cell_type": "code",
   "execution_count": 8,
   "metadata": {},
   "outputs": [],
   "source": [
    "pipeline = Pipeline([\n",
    "    (\"preprocessing\", preprocessing),\n",
    "    (\"model\", LGBMClassifier())\n",
    "    \n",
    "])"
   ]
  },
  {
   "cell_type": "code",
   "execution_count": 9,
   "metadata": {},
   "outputs": [
    {
     "data": {
      "text/plain": [
       "Pipeline(steps=[('preprocessing',\n",
       "                 Pipeline(steps=[('cleaning',\n",
       "                                  FeatureUnion(transformer_list=[('na_counter',\n",
       "                                                                  FunctionTransformer(func=<function na_counter at 0x000001A4E1902670>)),\n",
       "                                                                 ('impute',\n",
       "                                                                  SimpleImputer(fill_value=-1,\n",
       "                                                                                strategy='constant')),\n",
       "                                                                 ('missing_indicator',\n",
       "                                                                  MissingIndicator()),\n",
       "                                                                 ('category_encoding',\n",
       "                                                                  ColumnTransformer(transformers=[('day_target_encoding'...\n",
       "                                                                                                                handle_unknown=0,\n",
       "                                                                                                                min_group_size=0),\n",
       "                                                                                                   'Day'),\n",
       "                                                                                                  ('share_count_encoding',\n",
       "                                                                                                   CountEncoder(combine_min_nan_groups=True,\n",
       "                                                                                                                handle_missing=0,\n",
       "                                                                                                                handle_unknown=0,\n",
       "                                                                                                                min_group_size=0),\n",
       "                                                                                                   'Share')]))])),\n",
       "                                 ('drop_trader_date_share',\n",
       "                                  ColumnTransformer(remainder='passthrough',\n",
       "                                                    transformers=[('drop_columns',\n",
       "                                                                   'drop',\n",
       "                                                                   [1, 2,\n",
       "                                                                    3])])),\n",
       "                                 ('scaling', QuantileTransformer())])),\n",
       "                ('model', LGBMClassifier())])"
      ]
     },
     "execution_count": 9,
     "metadata": {},
     "output_type": "execute_result"
    }
   ],
   "source": [
    "pipeline.fit(X,y)"
   ]
  },
  {
   "cell_type": "markdown",
   "metadata": {},
   "source": [
    "# Train Test Split"
   ]
  },
  {
   "cell_type": "code",
   "execution_count": 10,
   "metadata": {},
   "outputs": [],
   "source": [
    "test_traders = X['Trader'].value_counts().sample(15)"
   ]
  },
  {
   "cell_type": "code",
   "execution_count": 11,
   "metadata": {},
   "outputs": [],
   "source": [
    "X_train = X.reset_index().set_index(\"Trader\").drop(test_traders.index).reset_index().set_index('Index')\n",
    "X_test = X.reset_index().set_index(\"Trader\").loc[test_traders.index].reset_index().set_index('Index')\n",
    "\n",
    "y_train = y.loc[X_train.index]\n",
    "y_test = y.loc[X_test.index]"
   ]
  },
  {
   "cell_type": "markdown",
   "metadata": {},
   "source": [
    "# Test Pipeline"
   ]
  },
  {
   "cell_type": "code",
   "execution_count": 12,
   "metadata": {},
   "outputs": [
    {
     "data": {
      "text/plain": [
       "0.8458990520552311"
      ]
     },
     "execution_count": 12,
     "metadata": {},
     "output_type": "execute_result"
    }
   ],
   "source": [
    "pipeline.fit(X_train, y_train)\n",
    "\n",
    "y_pred = pipeline.predict(X_test)\n",
    "\n",
    "f1_score(y_test, y_pred, average = 'weighted')"
   ]
  },
  {
   "cell_type": "code",
   "execution_count": 15,
   "metadata": {},
   "outputs": [
    {
     "data": {
      "text/plain": [
       "1    35818\n",
       "2    29680\n",
       "0    17588\n",
       "Name: type, dtype: int64"
      ]
     },
     "execution_count": 15,
     "metadata": {},
     "output_type": "execute_result"
    }
   ],
   "source": [
    "y_train.value_counts()"
   ]
  },
  {
   "cell_type": "markdown",
   "metadata": {},
   "source": [
    "# Ré-équilibrage du dataset"
   ]
  },
  {
   "cell_type": "code",
   "execution_count": 16,
   "metadata": {},
   "outputs": [],
   "source": [
    "from imblearn.over_sampling import RandomOverSampler \n",
    "\n",
    "ros = RandomOverSampler(random_state=42)\n",
    "\n",
    "X_train_resampled, y_train_resampled = ros.fit_resample(X_train, y_train)"
   ]
  },
  {
   "cell_type": "markdown",
   "metadata": {},
   "source": [
    "# Recherche d'hyperparamètres optimaux"
   ]
  },
  {
   "cell_type": "code",
   "execution_count": 27,
   "metadata": {
    "code_folding": [],
    "scrolled": true
   },
   "outputs": [
    {
     "name": "stderr",
     "output_type": "stream",
     "text": [
      "\u001b[32m[I 2021-06-10 17:36:47,280]\u001b[0m A new study created in memory with name: no-name-dcb96402-a1b1-42d6-a4d7-60b3d06ae301\u001b[0m\n",
      "\u001b[32m[I 2021-06-10 17:37:04,382]\u001b[0m Trial 0 finished with value: 0.9131811649178944 and parameters: {'learning_rate': 1.1360102452447238, 'n_estimators': 241, 'max_depth': 3, 'min_split_gain': 0.7883870425306815}. Best is trial 0 with value: 0.9131811649178944.\u001b[0m\n",
      "\u001b[32m[I 2021-06-10 17:37:21,537]\u001b[0m Trial 1 finished with value: 0.9131811649178944 and parameters: {'learning_rate': 0.5400805244627362, 'n_estimators': 124, 'max_depth': 3, 'min_split_gain': 0.6208330014976596}. Best is trial 0 with value: 0.9131811649178944.\u001b[0m\n",
      "\u001b[32m[I 2021-06-10 17:37:38,572]\u001b[0m Trial 2 finished with value: 0.9131811649178944 and parameters: {'learning_rate': 9.973919273634323, 'n_estimators': 307, 'max_depth': 9, 'min_split_gain': 0.9170029538893112}. Best is trial 0 with value: 0.9131811649178944.\u001b[0m\n",
      "\u001b[32m[I 2021-06-10 17:37:55,567]\u001b[0m Trial 3 finished with value: 0.9131811649178944 and parameters: {'learning_rate': 1.5328388592739342, 'n_estimators': 166, 'max_depth': 5, 'min_split_gain': 0.14202039305114722}. Best is trial 0 with value: 0.9131811649178944.\u001b[0m\n",
      "\u001b[32m[I 2021-06-10 17:38:11,513]\u001b[0m Trial 4 finished with value: 0.9131811649178944 and parameters: {'learning_rate': 0.0006696441028789396, 'n_estimators': 157, 'max_depth': 5, 'min_split_gain': 0.22142298206303945}. Best is trial 0 with value: 0.9131811649178944.\u001b[0m\n",
      "\u001b[32m[I 2021-06-10 17:38:26,659]\u001b[0m Trial 5 finished with value: 0.9131811649178944 and parameters: {'learning_rate': 3.1675473498787112, 'n_estimators': 374, 'max_depth': 7, 'min_split_gain': 0.035863158796689554}. Best is trial 0 with value: 0.9131811649178944.\u001b[0m\n",
      "\u001b[32m[I 2021-06-10 17:38:42,988]\u001b[0m Trial 6 finished with value: 0.9131811649178944 and parameters: {'learning_rate': 0.0002772136143012362, 'n_estimators': 337, 'max_depth': 7, 'min_split_gain': 0.32853680977515043}. Best is trial 0 with value: 0.9131811649178944.\u001b[0m\n",
      "\u001b[32m[I 2021-06-10 17:38:58,503]\u001b[0m Trial 7 finished with value: 0.9131811649178944 and parameters: {'learning_rate': 1.0224361368757244, 'n_estimators': 68, 'max_depth': 9, 'min_split_gain': 0.8530546118444452}. Best is trial 0 with value: 0.9131811649178944.\u001b[0m\n",
      "\u001b[32m[I 2021-06-10 17:39:13,818]\u001b[0m Trial 8 finished with value: 0.9131811649178944 and parameters: {'learning_rate': 8.452138263304837, 'n_estimators': 154, 'max_depth': 9, 'min_split_gain': 0.022879978246279853}. Best is trial 0 with value: 0.9131811649178944.\u001b[0m\n",
      "\u001b[32m[I 2021-06-10 17:39:29,201]\u001b[0m Trial 9 finished with value: 0.9131811649178944 and parameters: {'learning_rate': 0.03152855859049778, 'n_estimators': 253, 'max_depth': 9, 'min_split_gain': 0.7500490799842926}. Best is trial 0 with value: 0.9131811649178944.\u001b[0m\n",
      "\u001b[32m[I 2021-06-10 17:39:44,493]\u001b[0m Trial 10 finished with value: 0.9131811649178944 and parameters: {'learning_rate': 0.040029431826281804, 'n_estimators': 276, 'max_depth': 2, 'min_split_gain': 0.49223738808428014}. Best is trial 0 with value: 0.9131811649178944.\u001b[0m\n",
      "\u001b[32m[I 2021-06-10 17:39:59,859]\u001b[0m Trial 11 finished with value: 0.9131811649178944 and parameters: {'learning_rate': 0.17487383339225074, 'n_estimators': 50, 'max_depth': 2, 'min_split_gain': 0.6437632810739478}. Best is trial 0 with value: 0.9131811649178944.\u001b[0m\n",
      "\u001b[32m[I 2021-06-10 17:40:15,970]\u001b[0m Trial 12 finished with value: 0.9131811649178944 and parameters: {'learning_rate': 0.21740445547665802, 'n_estimators': 218, 'max_depth': 3, 'min_split_gain': 0.5391624795034278}. Best is trial 0 with value: 0.9131811649178944.\u001b[0m\n",
      "\u001b[32m[I 2021-06-10 17:40:32,333]\u001b[0m Trial 13 finished with value: 0.9131811649178944 and parameters: {'learning_rate': 0.33409491785295875, 'n_estimators': 102, 'max_depth': 4, 'min_split_gain': 0.9951088629506575}. Best is trial 0 with value: 0.9131811649178944.\u001b[0m\n",
      "\u001b[32m[I 2021-06-10 17:40:50,092]\u001b[0m Trial 14 finished with value: 0.9131811649178944 and parameters: {'learning_rate': 0.005412398981317516, 'n_estimators': 214, 'max_depth': 3, 'min_split_gain': 0.7173411649262484}. Best is trial 0 with value: 0.9131811649178944.\u001b[0m\n",
      "\u001b[32m[I 2021-06-10 17:41:07,119]\u001b[0m Trial 15 finished with value: 0.9131811649178944 and parameters: {'learning_rate': 0.05381904788907314, 'n_estimators': 3, 'max_depth': 3, 'min_split_gain': 0.47556400010770405}. Best is trial 0 with value: 0.9131811649178944.\u001b[0m\n",
      "\u001b[32m[I 2021-06-10 17:41:25,235]\u001b[0m Trial 16 finished with value: 0.9131811649178944 and parameters: {'learning_rate': 0.5845272592209395, 'n_estimators': 118, 'max_depth': 5, 'min_split_gain': 0.819334035064422}. Best is trial 0 with value: 0.9131811649178944.\u001b[0m\n",
      "\u001b[32m[I 2021-06-10 17:41:43,744]\u001b[0m Trial 17 finished with value: 0.9131811649178944 and parameters: {'learning_rate': 0.004254257850900454, 'n_estimators': 231, 'max_depth': 2, 'min_split_gain': 0.7162493627174104}. Best is trial 0 with value: 0.9131811649178944.\u001b[0m\n",
      "\u001b[32m[I 2021-06-10 17:42:01,602]\u001b[0m Trial 18 finished with value: 0.9131811649178944 and parameters: {'learning_rate': 0.025419606521853495, 'n_estimators': 394, 'max_depth': 4, 'min_split_gain': 0.3952383579983959}. Best is trial 0 with value: 0.9131811649178944.\u001b[0m\n",
      "\u001b[32m[I 2021-06-10 17:42:19,461]\u001b[0m Trial 19 finished with value: 0.9131811649178944 and parameters: {'learning_rate': 3.0443242723609076, 'n_estimators': 4, 'max_depth': 5, 'min_split_gain': 0.8369408865699807}. Best is trial 0 with value: 0.9131811649178944.\u001b[0m\n",
      "\u001b[32m[I 2021-06-10 17:42:36,954]\u001b[0m Trial 20 finished with value: 0.9131811649178944 and parameters: {'learning_rate': 0.001960215782160033, 'n_estimators': 279, 'max_depth': 7, 'min_split_gain': 0.9250910531540599}. Best is trial 0 with value: 0.9131811649178944.\u001b[0m\n",
      "\u001b[32m[I 2021-06-10 17:42:54,875]\u001b[0m Trial 21 finished with value: 0.9131811649178944 and parameters: {'learning_rate': 0.009081594297250936, 'n_estimators': 384, 'max_depth': 2, 'min_split_gain': 0.33183495261737683}. Best is trial 0 with value: 0.9131811649178944.\u001b[0m\n",
      "\u001b[32m[I 2021-06-10 17:43:12,100]\u001b[0m Trial 22 finished with value: 0.9131811649178944 and parameters: {'learning_rate': 3.95832610425344, 'n_estimators': 339, 'max_depth': 4, 'min_split_gain': 0.3878485459364012}. Best is trial 0 with value: 0.9131811649178944.\u001b[0m\n",
      "\u001b[32m[I 2021-06-10 17:43:28,567]\u001b[0m Trial 23 finished with value: 0.9131811649178944 and parameters: {'learning_rate': 0.0015358850291309093, 'n_estimators': 266, 'max_depth': 7, 'min_split_gain': 0.9950659759790252}. Best is trial 0 with value: 0.9131811649178944.\u001b[0m\n",
      "\u001b[32m[I 2021-06-10 17:43:45,123]\u001b[0m Trial 24 finished with value: 0.9131811649178944 and parameters: {'learning_rate': 0.008274122802591571, 'n_estimators': 302, 'max_depth': 8, 'min_split_gain': 0.26243919167506247}. Best is trial 0 with value: 0.9131811649178944.\u001b[0m\n",
      "\u001b[32m[I 2021-06-10 17:44:02,343]\u001b[0m Trial 25 finished with value: 0.9131811649178944 and parameters: {'learning_rate': 4.99884298117583, 'n_estimators': 351, 'max_depth': 4, 'min_split_gain': 0.3949703925506369}. Best is trial 0 with value: 0.9131811649178944.\u001b[0m\n",
      "\u001b[32m[I 2021-06-10 17:44:18,102]\u001b[0m Trial 26 finished with value: 0.9131811649178944 and parameters: {'learning_rate': 0.00020923023918184108, 'n_estimators': 326, 'max_depth': 6, 'min_split_gain': 0.9743659910064988}. Best is trial 0 with value: 0.9131811649178944.\u001b[0m\n",
      "\u001b[32m[I 2021-06-10 17:44:33,959]\u001b[0m Trial 27 finished with value: 0.9131811649178944 and parameters: {'learning_rate': 0.0021006407860887917, 'n_estimators': 294, 'max_depth': 8, 'min_split_gain': 0.23595799676838158}. Best is trial 0 with value: 0.9131811649178944.\u001b[0m\n",
      "\u001b[32m[I 2021-06-10 17:44:50,230]\u001b[0m Trial 28 finished with value: 0.9131811649178944 and parameters: {'learning_rate': 0.10822020537277469, 'n_estimators': 365, 'max_depth': 10, 'min_split_gain': 0.15900775207556922}. Best is trial 0 with value: 0.9131811649178944.\u001b[0m\n",
      "\u001b[32m[I 2021-06-10 17:45:07,264]\u001b[0m Trial 29 finished with value: 0.9131811649178944 and parameters: {'learning_rate': 8.363029886243726, 'n_estimators': 342, 'max_depth': 6, 'min_split_gain': 0.5799078273643588}. Best is trial 0 with value: 0.9131811649178944.\u001b[0m\n"
     ]
    },
    {
     "name": "stderr",
     "output_type": "stream",
     "text": [
      "\u001b[32m[I 2021-06-10 17:45:24,101]\u001b[0m Trial 30 finished with value: 0.9131811649178944 and parameters: {'learning_rate': 0.00017111830031796296, 'n_estimators': 294, 'max_depth': 6, 'min_split_gain': 0.9340579723351888}. Best is trial 0 with value: 0.9131811649178944.\u001b[0m\n",
      "\u001b[32m[I 2021-06-10 17:45:41,203]\u001b[0m Trial 31 finished with value: 0.9131811649178944 and parameters: {'learning_rate': 0.11436812198127232, 'n_estimators': 323, 'max_depth': 10, 'min_split_gain': 0.07702207212777973}. Best is trial 0 with value: 0.9131811649178944.\u001b[0m\n",
      "\u001b[32m[I 2021-06-10 17:45:58,570]\u001b[0m Trial 32 finished with value: 0.9131811649178944 and parameters: {'learning_rate': 1.0452264624897332, 'n_estimators': 368, 'max_depth': 10, 'min_split_gain': 0.5833554405298194}. Best is trial 0 with value: 0.9131811649178944.\u001b[0m\n",
      "\u001b[32m[I 2021-06-10 17:46:16,168]\u001b[0m Trial 33 finished with value: 0.9131811649178944 and parameters: {'learning_rate': 0.09513894770714443, 'n_estimators': 186, 'max_depth': 6, 'min_split_gain': 0.6432650455610862}. Best is trial 0 with value: 0.9131811649178944.\u001b[0m\n",
      "\u001b[32m[I 2021-06-10 17:46:33,941]\u001b[0m Trial 34 finished with value: 0.9131811649178944 and parameters: {'learning_rate': 0.5216286362102881, 'n_estimators': 247, 'max_depth': 8, 'min_split_gain': 0.915424873960395}. Best is trial 0 with value: 0.9131811649178944.\u001b[0m\n",
      "\u001b[32m[I 2021-06-10 17:46:50,537]\u001b[0m Trial 35 finished with value: 0.9131811649178944 and parameters: {'learning_rate': 0.010958480343769802, 'n_estimators': 399, 'max_depth': 5, 'min_split_gain': 0.8350829164871066}. Best is trial 0 with value: 0.9131811649178944.\u001b[0m\n",
      "\u001b[32m[I 2021-06-10 17:47:06,216]\u001b[0m Trial 36 finished with value: 0.9131811649178944 and parameters: {'learning_rate': 0.0004886815633097231, 'n_estimators': 271, 'max_depth': 4, 'min_split_gain': 0.41794704502113394}. Best is trial 0 with value: 0.9131811649178944.\u001b[0m\n",
      "\u001b[32m[I 2021-06-10 17:47:22,932]\u001b[0m Trial 37 finished with value: 0.9131811649178944 and parameters: {'learning_rate': 0.015538874189908541, 'n_estimators': 400, 'max_depth': 2, 'min_split_gain': 0.34552323909906546}. Best is trial 0 with value: 0.9131811649178944.\u001b[0m\n",
      "\u001b[32m[I 2021-06-10 17:47:38,336]\u001b[0m Trial 38 finished with value: 0.9131811649178944 and parameters: {'learning_rate': 0.001268698488905928, 'n_estimators': 248, 'max_depth': 3, 'min_split_gain': 0.28262778347946127}. Best is trial 0 with value: 0.9131811649178944.\u001b[0m\n",
      "\u001b[32m[I 2021-06-10 17:47:53,663]\u001b[0m Trial 39 finished with value: 0.9131811649178944 and parameters: {'learning_rate': 2.27592112840271, 'n_estimators': 187, 'max_depth': 4, 'min_split_gain': 0.19246566068179577}. Best is trial 0 with value: 0.9131811649178944.\u001b[0m\n",
      "\u001b[32m[I 2021-06-10 17:48:10,188]\u001b[0m Trial 40 finished with value: 0.9131811649178944 and parameters: {'learning_rate': 0.0007361651400461368, 'n_estimators': 313, 'max_depth': 8, 'min_split_gain': 0.2544922173527005}. Best is trial 0 with value: 0.9131811649178944.\u001b[0m\n",
      "\u001b[32m[I 2021-06-10 17:48:25,902]\u001b[0m Trial 41 finished with value: 0.9131811649178944 and parameters: {'learning_rate': 5.647003119210542, 'n_estimators': 347, 'max_depth': 7, 'min_split_gain': 0.43071995672681496}. Best is trial 0 with value: 0.9131811649178944.\u001b[0m\n",
      "\u001b[32m[I 2021-06-10 17:48:42,428]\u001b[0m Trial 42 finished with value: 0.9131811649178944 and parameters: {'learning_rate': 0.00010473801116262146, 'n_estimators': 302, 'max_depth': 7, 'min_split_gain': 0.9928438249485451}. Best is trial 0 with value: 0.9131811649178944.\u001b[0m\n",
      "\u001b[32m[I 2021-06-10 17:48:58,310]\u001b[0m Trial 43 finished with value: 0.9131811649178944 and parameters: {'learning_rate': 0.00042028886172229194, 'n_estimators': 323, 'max_depth': 8, 'min_split_gain': 0.9658551492036862}. Best is trial 0 with value: 0.9131811649178944.\u001b[0m\n",
      "\u001b[32m[I 2021-06-10 17:49:13,812]\u001b[0m Trial 44 finished with value: 0.9131811649178944 and parameters: {'learning_rate': 0.0029753257768036804, 'n_estimators': 289, 'max_depth': 8, 'min_split_gain': 0.2532167277763655}. Best is trial 0 with value: 0.9131811649178944.\u001b[0m\n",
      "\u001b[32m[I 2021-06-10 17:49:30,603]\u001b[0m Trial 45 finished with value: 0.9131811649178944 and parameters: {'learning_rate': 0.0002058285652564647, 'n_estimators': 358, 'max_depth': 9, 'min_split_gain': 0.10821076685604133}. Best is trial 0 with value: 0.9131811649178944.\u001b[0m\n",
      "\u001b[32m[I 2021-06-10 17:49:48,059]\u001b[0m Trial 46 finished with value: 0.9131811649178944 and parameters: {'learning_rate': 1.3966015023140463, 'n_estimators': 365, 'max_depth': 10, 'min_split_gain': 0.18211826196790615}. Best is trial 0 with value: 0.9131811649178944.\u001b[0m\n",
      "\u001b[32m[I 2021-06-10 17:50:05,387]\u001b[0m Trial 47 finished with value: 0.9131811649178944 and parameters: {'learning_rate': 9.500338125073183, 'n_estimators': 325, 'max_depth': 3, 'min_split_gain': 0.0037714984010815966}. Best is trial 0 with value: 0.9131811649178944.\u001b[0m\n",
      "\u001b[32m[I 2021-06-10 17:50:21,902]\u001b[0m Trial 48 finished with value: 0.9131811649178944 and parameters: {'learning_rate': 0.5715012303971395, 'n_estimators': 379, 'max_depth': 6, 'min_split_gain': 0.8777255325884216}. Best is trial 0 with value: 0.9131811649178944.\u001b[0m\n",
      "\u001b[32m[I 2021-06-10 17:50:38,121]\u001b[0m Trial 49 finished with value: 0.9131811649178944 and parameters: {'learning_rate': 0.00010000157952278061, 'n_estimators': 330, 'max_depth': 6, 'min_split_gain': 0.7794128515819424}. Best is trial 0 with value: 0.9131811649178944.\u001b[0m\n",
      "\u001b[32m[I 2021-06-10 17:50:55,075]\u001b[0m Trial 50 finished with value: 0.9131811649178944 and parameters: {'learning_rate': 0.06931944303187125, 'n_estimators': 290, 'max_depth': 5, 'min_split_gain': 0.14229659414963441}. Best is trial 0 with value: 0.9131811649178944.\u001b[0m\n",
      "\u001b[32m[I 2021-06-10 17:51:16,082]\u001b[0m Trial 51 finished with value: 0.9131811649178944 and parameters: {'learning_rate': 0.13750424585836707, 'n_estimators': 231, 'max_depth': 10, 'min_split_gain': 0.06251232233649033}. Best is trial 0 with value: 0.9131811649178944.\u001b[0m\n",
      "\u001b[32m[I 2021-06-10 17:51:36,160]\u001b[0m Trial 52 finished with value: 0.9131811649178944 and parameters: {'learning_rate': 0.30068959485063285, 'n_estimators': 361, 'max_depth': 10, 'min_split_gain': 0.600083407360721}. Best is trial 0 with value: 0.9131811649178944.\u001b[0m\n",
      "\u001b[32m[I 2021-06-10 17:51:54,591]\u001b[0m Trial 53 finished with value: 0.9131811649178944 and parameters: {'learning_rate': 0.78646603431084, 'n_estimators': 377, 'max_depth': 10, 'min_split_gain': 0.5412425870352118}. Best is trial 0 with value: 0.9131811649178944.\u001b[0m\n",
      "\u001b[32m[I 2021-06-10 17:52:10,588]\u001b[0m Trial 54 finished with value: 0.9131811649178944 and parameters: {'learning_rate': 0.09063019612522354, 'n_estimators': 195, 'max_depth': 6, 'min_split_gain': 0.6530360630665483}. Best is trial 0 with value: 0.9131811649178944.\u001b[0m\n",
      "\u001b[32m[I 2021-06-10 17:52:27,507]\u001b[0m Trial 55 finished with value: 0.9131811649178944 and parameters: {'learning_rate': 1.362618589259739, 'n_estimators': 174, 'max_depth': 9, 'min_split_gain': 0.5980864235387183}. Best is trial 0 with value: 0.9131811649178944.\u001b[0m\n",
      "\u001b[32m[I 2021-06-10 17:52:43,572]\u001b[0m Trial 56 finished with value: 0.9131811649178944 and parameters: {'learning_rate': 0.33881880742952697, 'n_estimators': 137, 'max_depth': 9, 'min_split_gain': 0.6971932157978799}. Best is trial 0 with value: 0.9131811649178944.\u001b[0m\n",
      "\u001b[32m[I 2021-06-10 17:53:00,766]\u001b[0m Trial 57 finished with value: 0.9131811649178944 and parameters: {'learning_rate': 0.2133838334397139, 'n_estimators': 256, 'max_depth': 7, 'min_split_gain': 0.9038361447781821}. Best is trial 0 with value: 0.9131811649178944.\u001b[0m\n",
      "\u001b[32m[I 2021-06-10 17:53:16,610]\u001b[0m Trial 58 finished with value: 0.9131811649178944 and parameters: {'learning_rate': 0.019183488113134337, 'n_estimators': 213, 'max_depth': 5, 'min_split_gain': 0.765781822032652}. Best is trial 0 with value: 0.9131811649178944.\u001b[0m\n",
      "\u001b[32m[I 2021-06-10 17:53:34,030]\u001b[0m Trial 59 finished with value: 0.9131811649178944 and parameters: {'learning_rate': 0.03861770499765399, 'n_estimators': 152, 'max_depth': 9, 'min_split_gain': 0.791430881336064}. Best is trial 0 with value: 0.9131811649178944.\u001b[0m\n",
      "\u001b[32m[I 2021-06-10 17:53:51,472]\u001b[0m Trial 60 finished with value: 0.9131811649178944 and parameters: {'learning_rate': 0.8124359757788547, 'n_estimators': 238, 'max_depth': 5, 'min_split_gain': 0.4693038987322655}. Best is trial 0 with value: 0.9131811649178944.\u001b[0m\n"
     ]
    },
    {
     "name": "stderr",
     "output_type": "stream",
     "text": [
      "\u001b[32m[I 2021-06-10 17:54:09,534]\u001b[0m Trial 61 finished with value: 0.9131811649178944 and parameters: {'learning_rate': 0.01858324721481531, 'n_estimators': 391, 'max_depth': 2, 'min_split_gain': 0.5461061257683217}. Best is trial 0 with value: 0.9131811649178944.\u001b[0m\n",
      "\u001b[32m[I 2021-06-10 17:54:26,778]\u001b[0m Trial 62 finished with value: 0.9131811649178944 and parameters: {'learning_rate': 0.000989954613856904, 'n_estimators': 260, 'max_depth': 3, 'min_split_gain': 0.2973558804088348}. Best is trial 0 with value: 0.9131811649178944.\u001b[0m\n",
      "\u001b[32m[I 2021-06-10 17:54:44,798]\u001b[0m Trial 63 finished with value: 0.9131811649178944 and parameters: {'learning_rate': 0.009358108320323771, 'n_estimators': 249, 'max_depth': 3, 'min_split_gain': 0.36079799569819326}. Best is trial 0 with value: 0.9131811649178944.\u001b[0m\n",
      "\u001b[32m[I 2021-06-10 17:55:05,240]\u001b[0m Trial 64 finished with value: 0.9131811649178944 and parameters: {'learning_rate': 2.0341484457875114, 'n_estimators': 212, 'max_depth': 4, 'min_split_gain': 0.2040364505660176}. Best is trial 0 with value: 0.9131811649178944.\u001b[0m\n",
      "\u001b[32m[I 2021-06-10 17:55:24,409]\u001b[0m Trial 65 finished with value: 0.9131811649178944 and parameters: {'learning_rate': 0.0004110176894140976, 'n_estimators': 224, 'max_depth': 4, 'min_split_gain': 0.29475979981193007}. Best is trial 0 with value: 0.9131811649178944.\u001b[0m\n",
      "\u001b[32m[I 2021-06-10 17:55:42,174]\u001b[0m Trial 66 finished with value: 0.9131811649178944 and parameters: {'learning_rate': 0.001057281591635173, 'n_estimators': 270, 'max_depth': 4, 'min_split_gain': 0.3336629661145885}. Best is trial 0 with value: 0.9131811649178944.\u001b[0m\n",
      "\u001b[32m[I 2021-06-10 17:56:00,465]\u001b[0m Trial 67 finished with value: 0.9131811649178944 and parameters: {'learning_rate': 0.0005641931081326291, 'n_estimators': 201, 'max_depth': 3, 'min_split_gain': 0.42579035648612384}. Best is trial 0 with value: 0.9131811649178944.\u001b[0m\n",
      "\u001b[32m[I 2021-06-10 17:56:18,659]\u001b[0m Trial 68 finished with value: 0.9131811649178944 and parameters: {'learning_rate': 5.146970483124982, 'n_estimators': 279, 'max_depth': 2, 'min_split_gain': 0.42172400482571576}. Best is trial 0 with value: 0.9131811649178944.\u001b[0m\n",
      "\u001b[32m[I 2021-06-10 17:56:39,725]\u001b[0m Trial 69 finished with value: 0.9131811649178944 and parameters: {'learning_rate': 2.3896365512004945, 'n_estimators': 310, 'max_depth': 3, 'min_split_gain': 0.2898301700194196}. Best is trial 0 with value: 0.9131811649178944.\u001b[0m\n",
      "\u001b[32m[I 2021-06-10 17:56:59,479]\u001b[0m Trial 70 finished with value: 0.9131811649178944 and parameters: {'learning_rate': 0.00010884408565099159, 'n_estimators': 315, 'max_depth': 7, 'min_split_gain': 0.46114452353381896}. Best is trial 0 with value: 0.9131811649178944.\u001b[0m\n",
      "\u001b[32m[I 2021-06-10 17:57:19,497]\u001b[0m Trial 71 finished with value: 0.9131811649178944 and parameters: {'learning_rate': 0.05539139386750211, 'n_estimators': 358, 'max_depth': 10, 'min_split_gain': 0.0753488261467134}. Best is trial 0 with value: 0.9131811649178944.\u001b[0m\n",
      "\u001b[32m[I 2021-06-10 17:57:38,530]\u001b[0m Trial 72 finished with value: 0.9131811649178944 and parameters: {'learning_rate': 0.31148090864046446, 'n_estimators': 379, 'max_depth': 10, 'min_split_gain': 0.0038786243890822727}. Best is trial 0 with value: 0.9131811649178944.\u001b[0m\n",
      "\u001b[32m[I 2021-06-10 17:57:59,162]\u001b[0m Trial 73 finished with value: 0.9131811649178944 and parameters: {'learning_rate': 0.44156808533845293, 'n_estimators': 335, 'max_depth': 10, 'min_split_gain': 0.8790905865434199}. Best is trial 0 with value: 0.9131811649178944.\u001b[0m\n",
      "\u001b[32m[I 2021-06-10 17:58:17,874]\u001b[0m Trial 74 finished with value: 0.9131811649178944 and parameters: {'learning_rate': 0.15519613464751264, 'n_estimators': 333, 'max_depth': 6, 'min_split_gain': 0.045477122044367393}. Best is trial 0 with value: 0.9131811649178944.\u001b[0m\n",
      "\u001b[32m[I 2021-06-10 17:58:37,569]\u001b[0m Trial 75 finished with value: 0.9131811649178944 and parameters: {'learning_rate': 0.8448245565680848, 'n_estimators': 383, 'max_depth': 10, 'min_split_gain': 0.6986075325338783}. Best is trial 0 with value: 0.9131811649178944.\u001b[0m\n",
      "\u001b[32m[I 2021-06-10 17:58:57,095]\u001b[0m Trial 76 finished with value: 0.9131811649178944 and parameters: {'learning_rate': 0.06845456220514774, 'n_estimators': 234, 'max_depth': 6, 'min_split_gain': 0.5143306324216788}. Best is trial 0 with value: 0.9131811649178944.\u001b[0m\n",
      "\u001b[32m[I 2021-06-10 17:59:16,427]\u001b[0m Trial 77 finished with value: 0.9131811649178944 and parameters: {'learning_rate': 0.15414252899548564, 'n_estimators': 197, 'max_depth': 5, 'min_split_gain': 0.7398228511580713}. Best is trial 0 with value: 0.9131811649178944.\u001b[0m\n",
      "\u001b[32m[I 2021-06-10 17:59:35,105]\u001b[0m Trial 78 finished with value: 0.9131811649178944 and parameters: {'learning_rate': 1.3664749810533683, 'n_estimators': 170, 'max_depth': 9, 'min_split_gain': 0.6004214508576551}. Best is trial 0 with value: 0.9131811649178944.\u001b[0m\n",
      "\u001b[32m[I 2021-06-10 17:59:54,696]\u001b[0m Trial 79 finished with value: 0.9131811649178944 and parameters: {'learning_rate': 0.30841916649162276, 'n_estimators': 105, 'max_depth': 9, 'min_split_gain': 0.673548595585098}. Best is trial 0 with value: 0.9131811649178944.\u001b[0m\n",
      "\u001b[32m[I 2021-06-10 18:00:14,327]\u001b[0m Trial 80 finished with value: 0.9131811649178944 and parameters: {'learning_rate': 0.22500518090376942, 'n_estimators': 143, 'max_depth': 9, 'min_split_gain': 0.6347337820976722}. Best is trial 0 with value: 0.9131811649178944.\u001b[0m\n",
      "\u001b[32m[I 2021-06-10 18:00:33,996]\u001b[0m Trial 81 finished with value: 0.9131811649178944 and parameters: {'learning_rate': 0.23474813335314365, 'n_estimators': 175, 'max_depth': 9, 'min_split_gain': 0.6670798023702791}. Best is trial 0 with value: 0.9131811649178944.\u001b[0m\n",
      "\u001b[32m[I 2021-06-10 18:00:51,173]\u001b[0m Trial 82 finished with value: 0.9131811649178944 and parameters: {'learning_rate': 0.03077908421346922, 'n_estimators': 149, 'max_depth': 9, 'min_split_gain': 0.7615409834204099}. Best is trial 0 with value: 0.9131811649178944.\u001b[0m\n",
      "\u001b[32m[I 2021-06-10 18:01:09,835]\u001b[0m Trial 83 finished with value: 0.9131811649178944 and parameters: {'learning_rate': 0.41147258385978375, 'n_estimators': 139, 'max_depth': 9, 'min_split_gain': 0.7898022462182087}. Best is trial 0 with value: 0.9131811649178944.\u001b[0m\n",
      "\u001b[32m[I 2021-06-10 18:01:27,118]\u001b[0m Trial 84 finished with value: 0.9131811649178944 and parameters: {'learning_rate': 0.8102409187886175, 'n_estimators': 79, 'max_depth': 5, 'min_split_gain': 0.8035022549155522}. Best is trial 0 with value: 0.9131811649178944.\u001b[0m\n",
      "\u001b[32m[I 2021-06-10 18:01:44,560]\u001b[0m Trial 85 finished with value: 0.9131811649178944 and parameters: {'learning_rate': 0.04387369720197655, 'n_estimators': 163, 'max_depth': 8, 'min_split_gain': 0.7031082985306102}. Best is trial 0 with value: 0.9131811649178944.\u001b[0m\n",
      "\u001b[32m[I 2021-06-10 18:02:01,143]\u001b[0m Trial 86 finished with value: 0.9131811649178944 and parameters: {'learning_rate': 0.01665567456002072, 'n_estimators': 128, 'max_depth': 2, 'min_split_gain': 0.5655570631188828}. Best is trial 0 with value: 0.9131811649178944.\u001b[0m\n",
      "\u001b[32m[I 2021-06-10 18:02:19,469]\u001b[0m Trial 87 finished with value: 0.9131811649178944 and parameters: {'learning_rate': 0.017867354956912208, 'n_estimators': 238, 'max_depth': 2, 'min_split_gain': 0.7350004546781291}. Best is trial 0 with value: 0.9131811649178944.\u001b[0m\n",
      "\u001b[32m[I 2021-06-10 18:02:41,036]\u001b[0m Trial 88 finished with value: 0.9131811649178944 and parameters: {'learning_rate': 0.005669021434640862, 'n_estimators': 257, 'max_depth': 3, 'min_split_gain': 0.35493700036024484}. Best is trial 0 with value: 0.9131811649178944.\u001b[0m\n",
      "\u001b[32m[I 2021-06-10 18:03:00,439]\u001b[0m Trial 89 finished with value: 0.9131811649178944 and parameters: {'learning_rate': 0.02389349565402144, 'n_estimators': 251, 'max_depth': 3, 'min_split_gain': 0.86770105414407}. Best is trial 0 with value: 0.9131811649178944.\u001b[0m\n",
      "\u001b[32m[I 2021-06-10 18:03:18,278]\u001b[0m Trial 90 finished with value: 0.9131811649178944 and parameters: {'learning_rate': 0.01187177625399296, 'n_estimators': 211, 'max_depth': 4, 'min_split_gain': 0.3834352501365262}. Best is trial 0 with value: 0.9131811649178944.\u001b[0m\n",
      "\u001b[32m[I 2021-06-10 18:03:37,683]\u001b[0m Trial 91 finished with value: 0.9131811649178944 and parameters: {'learning_rate': 0.007878204102515274, 'n_estimators': 224, 'max_depth': 4, 'min_split_gain': 0.3062856126202531}. Best is trial 0 with value: 0.9131811649178944.\u001b[0m\n"
     ]
    },
    {
     "name": "stderr",
     "output_type": "stream",
     "text": [
      "\u001b[32m[I 2021-06-10 18:03:56,420]\u001b[0m Trial 92 finished with value: 0.9131811649178944 and parameters: {'learning_rate': 0.0008969709461545577, 'n_estimators': 207, 'max_depth': 4, 'min_split_gain': 0.22801075115944255}. Best is trial 0 with value: 0.9131811649178944.\u001b[0m\n",
      "\u001b[32m[I 2021-06-10 18:04:17,097]\u001b[0m Trial 93 finished with value: 0.9131811649178944 and parameters: {'learning_rate': 0.002532794631255194, 'n_estimators': 217, 'max_depth': 4, 'min_split_gain': 0.3111664631516505}. Best is trial 0 with value: 0.9131811649178944.\u001b[0m\n",
      "\u001b[32m[I 2021-06-10 18:04:36,994]\u001b[0m Trial 94 finished with value: 0.9131811649178944 and parameters: {'learning_rate': 0.0003646445032307404, 'n_estimators': 265, 'max_depth': 3, 'min_split_gain': 0.45505362825590134}. Best is trial 0 with value: 0.9131811649178944.\u001b[0m\n",
      "\u001b[32m[I 2021-06-10 18:04:57,283]\u001b[0m Trial 95 finished with value: 0.9131811649178944 and parameters: {'learning_rate': 0.0010526222123963319, 'n_estimators': 225, 'max_depth': 2, 'min_split_gain': 0.3653810659689682}. Best is trial 0 with value: 0.9131811649178944.\u001b[0m\n",
      "\u001b[32m[I 2021-06-10 18:05:17,731]\u001b[0m Trial 96 finished with value: 0.9131811649178944 and parameters: {'learning_rate': 2.0309249620787626, 'n_estimators': 269, 'max_depth': 3, 'min_split_gain': 0.4242467566232956}. Best is trial 0 with value: 0.9131811649178944.\u001b[0m\n",
      "\u001b[32m[I 2021-06-10 18:05:38,311]\u001b[0m Trial 97 finished with value: 0.9131811649178944 and parameters: {'learning_rate': 6.451920464362923, 'n_estimators': 287, 'max_depth': 3, 'min_split_gain': 0.2801715293985557}. Best is trial 0 with value: 0.9131811649178944.\u001b[0m\n",
      "\u001b[32m[I 2021-06-10 18:05:59,618]\u001b[0m Trial 98 finished with value: 0.9131811649178944 and parameters: {'learning_rate': 0.0005776965371887761, 'n_estimators': 311, 'max_depth': 3, 'min_split_gain': 0.32525674735361015}. Best is trial 0 with value: 0.9131811649178944.\u001b[0m\n",
      "\u001b[32m[I 2021-06-10 18:06:18,737]\u001b[0m Trial 99 finished with value: 0.9131811649178944 and parameters: {'learning_rate': 3.3844504643538538, 'n_estimators': 305, 'max_depth': 4, 'min_split_gain': 0.5058173378118475}. Best is trial 0 with value: 0.9131811649178944.\u001b[0m\n"
     ]
    },
    {
     "data": {
      "text/plain": [
       "{'learning_rate': 1.1360102452447238,\n",
       " 'n_estimators': 241,\n",
       " 'max_depth': 3,\n",
       " 'min_split_gain': 0.7883870425306815}"
      ]
     },
     "execution_count": 27,
     "metadata": {},
     "output_type": "execute_result"
    }
   ],
   "source": [
    "import optuna\n",
    "from sklearn.model_selection import cross_val_score\n",
    "from sklearn.metrics import f1_score\n",
    "\n",
    "def objective(trial):\n",
    "    learning_rate = trial.suggest_loguniform(\"learning_rate\", 1e-4, 10)\n",
    "    n_estimators = trial.suggest_int(\"n_estimators\", 1, 400)\n",
    "    max_depth = trial.suggest_int(\"max_depth\", 2, 10)\n",
    "    min_split_gain = trial.suggest_uniform(\"min_split_gain\", 0, 1)\n",
    "    \n",
    "    model = LGBMClassifier(learning_rate = learning_rate,\n",
    "                           n_estimators = n_estimators,\n",
    "                           max_depth = max_depth,\n",
    "                           min_split_gain = min_split_gain,\n",
    "                           device = 'gpu')\n",
    "    \n",
    "    pipeline = Pipeline([\n",
    "    (\"preprocessing\", preprocessing),\n",
    "    (\"model\", LGBMClassifier())   \n",
    "    ])\n",
    "    \n",
    "    score = cross_val_score(pipeline, X_train_resampled, y_train_resampled, cv = 4).mean()\n",
    "\n",
    "    return score\n",
    "\n",
    "study = optuna.create_study(direction = 'maximize')\n",
    "study.optimize(objective, n_trials=100)\n",
    "\n",
    "study.best_params"
   ]
  },
  {
   "cell_type": "code",
   "execution_count": 18,
   "metadata": {},
   "outputs": [],
   "source": [
    "study.optimize(objective, n_trials=100)"
   ]
  },
  {
   "cell_type": "code",
   "execution_count": 13,
   "metadata": {},
   "outputs": [],
   "source": [
    "from sklearn.model_selection import cross_val_score"
   ]
  }
 ],
 "metadata": {
  "hide_input": false,
  "kernelspec": {
   "display_name": "Python 3",
   "language": "python",
   "name": "python3"
  },
  "language_info": {
   "codemirror_mode": {
    "name": "ipython",
    "version": 3
   },
   "file_extension": ".py",
   "mimetype": "text/x-python",
   "name": "python",
   "nbconvert_exporter": "python",
   "pygments_lexer": "ipython3",
   "version": "3.8.5"
  },
  "nbTranslate": {
   "displayLangs": [
    "*"
   ],
   "hotkey": "alt-t",
   "langInMainMenu": true,
   "sourceLang": "en",
   "targetLang": "fr",
   "useGoogleTranslate": true
  }
 },
 "nbformat": 4,
 "nbformat_minor": 4
}
