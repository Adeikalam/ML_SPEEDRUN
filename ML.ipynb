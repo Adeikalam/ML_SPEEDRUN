{
 "cells": [
  {
   "cell_type": "code",
   "execution_count": 1,
   "metadata": {},
   "outputs": [],
   "source": [
    "import pandas as pd\n",
    "import numpy as np\n",
    "\n",
    "from sklearn.linear_model import LogisticRegression\n",
    "from sklearn.tree import DecisionTreeClassifier\n",
    "\n",
    "from sklearn.metrics import f1_score\n",
    "\n",
    "from sklearn.pipeline import Pipeline, FeatureUnion\n",
    "from sklearn.compose import ColumnTransformer\n",
    "from sklearn.base import BaseEstimator, TransformerMixin\n",
    "\n",
    "from sklearn.preprocessing import QuantileTransformer, FunctionTransformer\n",
    "from sklearn.impute import SimpleImputer, MissingIndicator\n",
    "\n",
    "from category_encoders import TargetEncoder, CountEncoder\n",
    "\n",
    "from lightgbm.sklearn import LGBMClassifier\n",
    "\n",
    "import warnings\n",
    "\n",
    "warnings.filterwarnings(\"ignore\")\n"
   ]
  },
  {
   "cell_type": "code",
   "execution_count": 2,
   "metadata": {},
   "outputs": [],
   "source": [
    "X = pd.read_csv(\"Data/amf_train_x.csv\", index_col = 'Index')\n",
    "y = pd.read_csv(\"Data/amf_train_y.csv\")"
   ]
  },
  {
   "cell_type": "code",
   "execution_count": 3,
   "metadata": {},
   "outputs": [],
   "source": [
    "y = X.merge(y, on = 'Trader')['type'].replace(['NON HFT', 'MIX', 'HFT'], [0, 1 , 2])\n",
    "y.index = X.index"
   ]
  },
  {
   "cell_type": "code",
   "execution_count": 4,
   "metadata": {
    "scrolled": false
   },
   "outputs": [
    {
     "data": {
      "text/plain": [
       "array([[False, False, False, ...,  True,  True,  True],\n",
       "       [False, False, False, ...,  True,  True,  True],\n",
       "       [False, False, False, ...,  True,  True,  True],\n",
       "       ...,\n",
       "       [False,  True, False, ...,  True,  True,  True],\n",
       "       [False,  True, False, ...,  True,  True,  True],\n",
       "       [False,  True, False, ...,  True,  True,  True]])"
      ]
     },
     "execution_count": 4,
     "metadata": {},
     "output_type": "execute_result"
    }
   ],
   "source": [
    "def na_counter(x):\n",
    "    return x.isna().sum(axis = 1).values.reshape((-1, 1))\n",
    "\n",
    "\n",
    "NACounter = FunctionTransformer(na_counter)\n",
    "imputer = SimpleImputer(strategy = \"constant\", fill_value = -1)\n",
    "na_indicator = MissingIndicator()\n",
    "\n",
    "na_indicator.fit_transform(X)"
   ]
  },
  {
   "cell_type": "code",
   "execution_count": 5,
   "metadata": {
    "scrolled": true
   },
   "outputs": [
    {
     "data": {
      "text/plain": [
       "Index\n",
       "1         0\n",
       "2         0\n",
       "3         0\n",
       "4         0\n",
       "5         0\n",
       "         ..\n",
       "105778    0\n",
       "105779    0\n",
       "105780    0\n",
       "105781    0\n",
       "105782    0\n",
       "Name: type, Length: 105782, dtype: int64"
      ]
     },
     "execution_count": 5,
     "metadata": {},
     "output_type": "execute_result"
    }
   ],
   "source": [
    "y"
   ]
  },
  {
   "cell_type": "code",
   "execution_count": null,
   "metadata": {},
   "outputs": [],
   "source": []
  },
  {
   "cell_type": "code",
   "execution_count": 6,
   "metadata": {},
   "outputs": [
    {
     "data": {
      "text/plain": [
       "array([[0.20165686, 0.49596686, 0.30237628],\n",
       "       [0.22485089, 0.47534791, 0.29980119],\n",
       "       [0.20699831, 0.48482293, 0.30817875],\n",
       "       ...,\n",
       "       [0.22307848, 0.48042993, 0.29649158],\n",
       "       [0.20173985, 0.48156587, 0.31669428],\n",
       "       [0.19324821, 0.49880978, 0.307942  ]])"
      ]
     },
     "execution_count": 6,
     "metadata": {},
     "output_type": "execute_result"
    }
   ],
   "source": [
    "class MultiClassTargetEncoder(BaseEstimator, TransformerMixin):\n",
    "    def __init__(self):\n",
    "        return None\n",
    "    \n",
    "    def fit(self, X, y):\n",
    "        y = pd.get_dummies(y)\n",
    "        self.encoders = [TargetEncoder().fit(X, y[y_i]) for y_i in y.columns]\n",
    "        return self\n",
    "    \n",
    "    def transform(self, X):\n",
    "        return pd.concat([encoder.transform(X) for encoder in self.encoders], axis = 1).values\n",
    "    \n",
    "    \n",
    "        \n",
    "mcte = MultiClassTargetEncoder()\n",
    "\n",
    "mcte.fit_transform(X[['Day']], y)   "
   ]
  },
  {
   "cell_type": "code",
   "execution_count": 7,
   "metadata": {},
   "outputs": [],
   "source": [
    "preprocessing = Pipeline([\n",
    "    (\"cleaning\", FeatureUnion([\n",
    "        (\"na_counter\", NACounter),\n",
    "        (\"impute\", imputer),\n",
    "        (\"missing_indicator\", na_indicator),\n",
    "        (\"category_encoding\", ColumnTransformer([\n",
    "            ('day_target_encoding', MultiClassTargetEncoder(), 'Day'),\n",
    "            ('share_target_encoding', MultiClassTargetEncoder(), 'Share'),\n",
    "            ('day_count_encoding', CountEncoder(handle_unknown = 0, min_group_size = 0, handle_missing = 0), 'Day'),\n",
    "            ('share_count_encoding', CountEncoder(handle_unknown = 0, min_group_size = 0, handle_missing = 0), 'Share')],\n",
    "            remainder = \"drop\"))\n",
    "    ])),\n",
    "    (\"drop_trader_date_share\", ColumnTransformer([\n",
    "        (\"drop_columns\", \"drop\", [1, 2, 3])\n",
    "    ], remainder = \"passthrough\")),\n",
    "    (\"scaling\", QuantileTransformer())\n",
    "])"
   ]
  },
  {
   "cell_type": "code",
   "execution_count": 8,
   "metadata": {
    "scrolled": false
   },
   "outputs": [],
   "source": [
    "_ = preprocessing.fit_transform(X, y)"
   ]
  },
  {
   "cell_type": "code",
   "execution_count": 9,
   "metadata": {},
   "outputs": [],
   "source": [
    "pipeline = Pipeline([\n",
    "    (\"preprocessing\", preprocessing),\n",
    "    (\"model\", LGBMClassifier())\n",
    "    \n",
    "])"
   ]
  },
  {
   "cell_type": "code",
   "execution_count": 10,
   "metadata": {},
   "outputs": [
    {
     "data": {
      "text/plain": [
       "Pipeline(steps=[('preprocessing',\n",
       "                 Pipeline(steps=[('cleaning',\n",
       "                                  FeatureUnion(transformer_list=[('na_counter',\n",
       "                                                                  FunctionTransformer(func=<function na_counter at 0x0000024CECEC0670>)),\n",
       "                                                                 ('impute',\n",
       "                                                                  SimpleImputer(fill_value=-1,\n",
       "                                                                                strategy='constant')),\n",
       "                                                                 ('missing_indicator',\n",
       "                                                                  MissingIndicator()),\n",
       "                                                                 ('category_encoding',\n",
       "                                                                  ColumnTransformer(transformers=[('day_target_encoding'...\n",
       "                                                                                                                handle_unknown=0,\n",
       "                                                                                                                min_group_size=0),\n",
       "                                                                                                   'Day'),\n",
       "                                                                                                  ('share_count_encoding',\n",
       "                                                                                                   CountEncoder(combine_min_nan_groups=True,\n",
       "                                                                                                                handle_missing=0,\n",
       "                                                                                                                handle_unknown=0,\n",
       "                                                                                                                min_group_size=0),\n",
       "                                                                                                   'Share')]))])),\n",
       "                                 ('drop_trader_date_share',\n",
       "                                  ColumnTransformer(remainder='passthrough',\n",
       "                                                    transformers=[('drop_columns',\n",
       "                                                                   'drop',\n",
       "                                                                   [1, 2,\n",
       "                                                                    3])])),\n",
       "                                 ('scaling', QuantileTransformer())])),\n",
       "                ('model', LGBMClassifier())])"
      ]
     },
     "execution_count": 10,
     "metadata": {},
     "output_type": "execute_result"
    }
   ],
   "source": [
    "pipeline.fit(X,y)"
   ]
  },
  {
   "cell_type": "markdown",
   "metadata": {},
   "source": [
    "# Train Test Split"
   ]
  },
  {
   "cell_type": "code",
   "execution_count": 11,
   "metadata": {},
   "outputs": [],
   "source": [
    "test_traders = X['Trader'].value_counts().sample(15)"
   ]
  },
  {
   "cell_type": "code",
   "execution_count": 12,
   "metadata": {},
   "outputs": [],
   "source": [
    "X_train = X.reset_index().set_index(\"Trader\").drop(test_traders.index).reset_index().set_index('Index')\n",
    "X_test = X.reset_index().set_index(\"Trader\").loc[test_traders.index].reset_index().set_index('Index')\n",
    "\n",
    "y_train = y.loc[X_train.index]\n",
    "y_test = y.loc[X_test.index]"
   ]
  },
  {
   "cell_type": "markdown",
   "metadata": {},
   "source": [
    "# Test Pipeline"
   ]
  },
  {
   "cell_type": "code",
   "execution_count": 13,
   "metadata": {},
   "outputs": [
    {
     "data": {
      "text/plain": [
       "0.9168661119240276"
      ]
     },
     "execution_count": 13,
     "metadata": {},
     "output_type": "execute_result"
    }
   ],
   "source": [
    "pipeline.fit(X_train, y_train)\n",
    "\n",
    "y_pred = pipeline.predict(X_test)\n",
    "\n",
    "f1_score(y_test, y_pred, average = 'weighted')"
   ]
  }
 ],
 "metadata": {
  "hide_input": false,
  "kernelspec": {
   "display_name": "Python 3",
   "language": "python",
   "name": "python3"
  },
  "language_info": {
   "codemirror_mode": {
    "name": "ipython",
    "version": 3
   },
   "file_extension": ".py",
   "mimetype": "text/x-python",
   "name": "python",
   "nbconvert_exporter": "python",
   "pygments_lexer": "ipython3",
   "version": "3.8.5"
  },
  "nbTranslate": {
   "displayLangs": [
    "*"
   ],
   "hotkey": "alt-t",
   "langInMainMenu": true,
   "sourceLang": "en",
   "targetLang": "fr",
   "useGoogleTranslate": true
  }
 },
 "nbformat": 4,
 "nbformat_minor": 4
}
